{
  "cells": [
    {
      "cell_type": "markdown",
      "metadata": {
        "id": "I9xrpEXa8tRV"
      },
      "source": [
        "# Desafio Técnico - Cientista de Dados Júnior\n",
        "## Escritório de Dados - Prefeitura do Rio de Janeiro\n",
        "#### Makalister Andrade da Silva\n"
      ]
    },
    {
      "cell_type": "code",
      "execution_count": 41,
      "metadata": {
        "colab": {
          "base_uri": "https://localhost:8080/"
        },
        "id": "qfIds9e18tRZ",
        "outputId": "a0664715-7fbe-4515-cc74-7d34141e287e"
      },
      "outputs": [
        {
          "output_type": "stream",
          "name": "stdout",
          "text": [
            "Requirement already satisfied: basedosdados in /usr/local/lib/python3.10/dist-packages (1.6.11)\n",
            "Requirement already satisfied: sqlalchemy in /usr/local/lib/python3.10/dist-packages (2.0.25)\n",
            "Requirement already satisfied: pandas in /usr/local/lib/python3.10/dist-packages (1.5.3)\n",
            "Requirement already satisfied: Jinja2==3.0.3 in /usr/local/lib/python3.10/dist-packages (from basedosdados) (3.0.3)\n",
            "Requirement already satisfied: ckanapi==4.6 in /usr/local/lib/python3.10/dist-packages (from basedosdados) (4.6)\n",
            "Requirement already satisfied: click==8.0.3 in /usr/local/lib/python3.10/dist-packages (from basedosdados) (8.0.3)\n",
            "Requirement already satisfied: google-cloud-bigquery==2.30.1 in /usr/local/lib/python3.10/dist-packages (from basedosdados) (2.30.1)\n",
            "Requirement already satisfied: google-cloud-bigquery-storage==1.1.0 in /usr/local/lib/python3.10/dist-packages (from basedosdados) (1.1.0)\n",
            "Requirement already satisfied: google-cloud-storage==1.42.3 in /usr/local/lib/python3.10/dist-packages (from basedosdados) (1.42.3)\n",
            "Requirement already satisfied: importlib-metadata<5.0.0,>=4.11.3 in /usr/local/lib/python3.10/dist-packages (from basedosdados) (4.13.0)\n",
            "Requirement already satisfied: loguru<0.7.0,>=0.6.0 in /usr/local/lib/python3.10/dist-packages (from basedosdados) (0.6.0)\n",
            "Requirement already satisfied: pandas-gbq<0.18.0,>=0.17.4 in /usr/local/lib/python3.10/dist-packages (from basedosdados) (0.17.9)\n",
            "Requirement already satisfied: pandavro<2.0.0,>=1.6.0 in /usr/local/lib/python3.10/dist-packages (from basedosdados) (1.8.0)\n",
            "Requirement already satisfied: pyaml==20.4.0 in /usr/local/lib/python3.10/dist-packages (from basedosdados) (20.4.0)\n",
            "Requirement already satisfied: pyarrow==6.0.0 in /usr/local/lib/python3.10/dist-packages (from basedosdados) (6.0.0)\n",
            "Requirement already satisfied: ruamel.yaml==0.17.10 in /usr/local/lib/python3.10/dist-packages (from basedosdados) (0.17.10)\n",
            "Requirement already satisfied: shapely<2.0.0,>=1.6.0 in /usr/local/lib/python3.10/dist-packages (from basedosdados) (1.8.5.post1)\n",
            "Requirement already satisfied: toml<0.11.0,>=0.10.2 in /usr/local/lib/python3.10/dist-packages (from basedosdados) (0.10.2)\n",
            "Requirement already satisfied: tomlkit==0.7.0 in /usr/local/lib/python3.10/dist-packages (from basedosdados) (0.7.0)\n",
            "Requirement already satisfied: tqdm==4.50.2 in /usr/local/lib/python3.10/dist-packages (from basedosdados) (4.50.2)\n",
            "Requirement already satisfied: setuptools in /usr/local/lib/python3.10/dist-packages (from ckanapi==4.6->basedosdados) (67.7.2)\n",
            "Requirement already satisfied: docopt in /usr/local/lib/python3.10/dist-packages (from ckanapi==4.6->basedosdados) (0.6.2)\n",
            "Requirement already satisfied: requests in /usr/local/lib/python3.10/dist-packages (from ckanapi==4.6->basedosdados) (2.31.0)\n",
            "Requirement already satisfied: python-slugify>=1.0 in /usr/local/lib/python3.10/dist-packages (from ckanapi==4.6->basedosdados) (8.0.3)\n",
            "Requirement already satisfied: six<2.0,>=1.9 in /usr/local/lib/python3.10/dist-packages (from ckanapi==4.6->basedosdados) (1.16.0)\n",
            "Requirement already satisfied: grpcio<2.0dev,>=1.38.1 in /usr/local/lib/python3.10/dist-packages (from google-cloud-bigquery==2.30.1->basedosdados) (1.60.1)\n",
            "Requirement already satisfied: google-api-core[grpc]<3.0.0dev,>=1.29.0 in /usr/local/lib/python3.10/dist-packages (from google-cloud-bigquery==2.30.1->basedosdados) (1.34.0)\n",
            "Requirement already satisfied: proto-plus>=1.10.0 in /usr/local/lib/python3.10/dist-packages (from google-cloud-bigquery==2.30.1->basedosdados) (1.23.0)\n",
            "Requirement already satisfied: google-cloud-core<3.0.0dev,>=1.4.1 in /usr/local/lib/python3.10/dist-packages (from google-cloud-bigquery==2.30.1->basedosdados) (2.3.3)\n",
            "Requirement already satisfied: google-resumable-media<3.0dev,>=0.6.0 in /usr/local/lib/python3.10/dist-packages (from google-cloud-bigquery==2.30.1->basedosdados) (2.7.0)\n",
            "Requirement already satisfied: packaging>=14.3 in /usr/local/lib/python3.10/dist-packages (from google-cloud-bigquery==2.30.1->basedosdados) (23.2)\n",
            "Requirement already satisfied: protobuf>=3.12.0 in /usr/local/lib/python3.10/dist-packages (from google-cloud-bigquery==2.30.1->basedosdados) (3.20.3)\n",
            "Requirement already satisfied: python-dateutil<3.0dev,>=2.7.2 in /usr/local/lib/python3.10/dist-packages (from google-cloud-bigquery==2.30.1->basedosdados) (2.8.2)\n",
            "Requirement already satisfied: google-auth<3.0dev,>=1.25.0 in /usr/local/lib/python3.10/dist-packages (from google-cloud-storage==1.42.3->basedosdados) (2.17.3)\n",
            "Requirement already satisfied: MarkupSafe>=2.0 in /usr/local/lib/python3.10/dist-packages (from Jinja2==3.0.3->basedosdados) (2.1.5)\n",
            "Requirement already satisfied: PyYAML in /usr/local/lib/python3.10/dist-packages (from pyaml==20.4.0->basedosdados) (6.0.1)\n",
            "Requirement already satisfied: numpy>=1.16.6 in /usr/local/lib/python3.10/dist-packages (from pyarrow==6.0.0->basedosdados) (1.23.5)\n",
            "Requirement already satisfied: typing-extensions>=4.6.0 in /usr/local/lib/python3.10/dist-packages (from sqlalchemy) (4.9.0)\n",
            "Requirement already satisfied: greenlet!=0.4.17 in /usr/local/lib/python3.10/dist-packages (from sqlalchemy) (3.0.3)\n",
            "Requirement already satisfied: pytz>=2020.1 in /usr/local/lib/python3.10/dist-packages (from pandas) (2023.4)\n",
            "Requirement already satisfied: zipp>=0.5 in /usr/local/lib/python3.10/dist-packages (from importlib-metadata<5.0.0,>=4.11.3->basedosdados) (3.17.0)\n",
            "Requirement already satisfied: db-dtypes<2.0.0,>=0.3.1 in /usr/local/lib/python3.10/dist-packages (from pandas-gbq<0.18.0,>=0.17.4->basedosdados) (1.2.0)\n",
            "Requirement already satisfied: pydata-google-auth in /usr/local/lib/python3.10/dist-packages (from pandas-gbq<0.18.0,>=0.17.4->basedosdados) (1.8.2)\n",
            "Requirement already satisfied: google-auth-oauthlib>=0.0.1 in /usr/local/lib/python3.10/dist-packages (from pandas-gbq<0.18.0,>=0.17.4->basedosdados) (1.2.0)\n",
            "Requirement already satisfied: fastavro<2.0.0,>=1.5.1 in /usr/local/lib/python3.10/dist-packages (from pandavro<2.0.0,>=1.6.0->basedosdados) (1.9.3)\n",
            "Requirement already satisfied: googleapis-common-protos<2.0dev,>=1.56.2 in /usr/local/lib/python3.10/dist-packages (from google-api-core[grpc]<3.0.0dev,>=1.29.0->google-cloud-bigquery==2.30.1->basedosdados) (1.62.0)\n",
            "Requirement already satisfied: grpcio-status<2.0dev,>=1.33.2 in /usr/local/lib/python3.10/dist-packages (from google-api-core[grpc]<3.0.0dev,>=1.29.0->google-cloud-bigquery==2.30.1->basedosdados) (1.48.2)\n",
            "Requirement already satisfied: cachetools<6.0,>=2.0.0 in /usr/local/lib/python3.10/dist-packages (from google-auth<3.0dev,>=1.25.0->google-cloud-storage==1.42.3->basedosdados) (5.3.2)\n",
            "Requirement already satisfied: pyasn1-modules>=0.2.1 in /usr/local/lib/python3.10/dist-packages (from google-auth<3.0dev,>=1.25.0->google-cloud-storage==1.42.3->basedosdados) (0.3.0)\n",
            "Requirement already satisfied: rsa<5,>=3.1.4 in /usr/local/lib/python3.10/dist-packages (from google-auth<3.0dev,>=1.25.0->google-cloud-storage==1.42.3->basedosdados) (4.9)\n",
            "Requirement already satisfied: requests-oauthlib>=0.7.0 in /usr/local/lib/python3.10/dist-packages (from google-auth-oauthlib>=0.0.1->pandas-gbq<0.18.0,>=0.17.4->basedosdados) (1.3.1)\n",
            "Requirement already satisfied: google-crc32c<2.0dev,>=1.0 in /usr/local/lib/python3.10/dist-packages (from google-resumable-media<3.0dev,>=0.6.0->google-cloud-bigquery==2.30.1->basedosdados) (1.5.0)\n",
            "Requirement already satisfied: text-unidecode>=1.3 in /usr/local/lib/python3.10/dist-packages (from python-slugify>=1.0->ckanapi==4.6->basedosdados) (1.3)\n",
            "Requirement already satisfied: charset-normalizer<4,>=2 in /usr/local/lib/python3.10/dist-packages (from requests->ckanapi==4.6->basedosdados) (3.3.2)\n",
            "Requirement already satisfied: idna<4,>=2.5 in /usr/local/lib/python3.10/dist-packages (from requests->ckanapi==4.6->basedosdados) (3.6)\n",
            "Requirement already satisfied: urllib3<3,>=1.21.1 in /usr/local/lib/python3.10/dist-packages (from requests->ckanapi==4.6->basedosdados) (2.0.7)\n",
            "Requirement already satisfied: certifi>=2017.4.17 in /usr/local/lib/python3.10/dist-packages (from requests->ckanapi==4.6->basedosdados) (2024.2.2)\n",
            "Requirement already satisfied: pyasn1<0.6.0,>=0.4.6 in /usr/local/lib/python3.10/dist-packages (from pyasn1-modules>=0.2.1->google-auth<3.0dev,>=1.25.0->google-cloud-storage==1.42.3->basedosdados) (0.5.1)\n",
            "Requirement already satisfied: oauthlib>=3.0.0 in /usr/local/lib/python3.10/dist-packages (from requests-oauthlib>=0.7.0->google-auth-oauthlib>=0.0.1->pandas-gbq<0.18.0,>=0.17.4->basedosdados) (3.2.2)\n"
          ]
        }
      ],
      "source": [
        "!pip install basedosdados sqlalchemy pandas\n",
        "import basedosdados as bd\n",
        "import pandas as pd\n",
        "from sqlalchemy import create_engine\n",
        "from google.cloud import bigquery\n"
      ]
    },
    {
      "cell_type": "markdown",
      "source": [
        "### Todas as consultas foram realizadas no dia 11/02/2024, e portanto seus resultados devem levar em consideração o conteúdo do banco de dados nesta data"
      ],
      "metadata": {
        "id": "E2Aoc0EZ9GnW"
      }
    },
    {
      "cell_type": "markdown",
      "source": [
        "### Importando tabelas e salvando-as em dataframes"
      ],
      "metadata": {
        "id": "_DNb88JfHsYS"
      }
    },
    {
      "cell_type": "markdown",
      "source": [
        "#### Importando a tabela de Chamados e salvando em dataframe para uso posterior"
      ],
      "metadata": {
        "id": "zBaHp9En__cZ"
      }
    },
    {
      "cell_type": "code",
      "source": [
        "query_chamados = \"SELECT * FROM `datario.administracao_servicos_publicos.chamado_1746` WHERE data_inicio BETWEEN '2023-04-01T00:00:00' AND '2023-04-01T23:59:59'\"\n",
        "df_chamados = bd.read_sql(query_chamados, billing_project_id=\"emd-datario\")"
      ],
      "metadata": {
        "colab": {
          "base_uri": "https://localhost:8080/"
        },
        "id": "2AVWZhE2_-8T",
        "outputId": "bbf2f92b-6bdd-4c3c-e230-ed80bf370a60"
      },
      "execution_count": 42,
      "outputs": [
        {
          "output_type": "stream",
          "name": "stderr",
          "text": [
            "Downloading: 100%|██████████| 73/73 [00:00<00:00, 362.21rows/s]\n"
          ]
        }
      ]
    },
    {
      "cell_type": "markdown",
      "source": [
        "#### Consultando e armazenando os dados de ``bairro`` em um dataframe:"
      ],
      "metadata": {
        "id": "HFJSzV3ZHb3Y"
      }
    },
    {
      "cell_type": "code",
      "execution_count": 43,
      "metadata": {
        "colab": {
          "base_uri": "https://localhost:8080/"
        },
        "id": "oPHvxljB8tRj",
        "outputId": "ae89c7fa-2624-41a9-8d4f-14b056edbb06"
      },
      "outputs": [
        {
          "output_type": "stream",
          "name": "stderr",
          "text": [
            "Downloading: 100%|██████████| 164/164 [00:03<00:00, 42.88rows/s]\n"
          ]
        }
      ],
      "source": [
        "query_bairros = \"SELECT * FROM `datario.dados_mestres.bairro`\"\n",
        "df_bairros = bd.read_sql(query_bairros, billing_project_id=\"emd-datario\")"
      ]
    },
    {
      "cell_type": "markdown",
      "source": [
        "#### Importando a tabela de Ocupação Hoteleira em Grandes Eventos no Rio"
      ],
      "metadata": {
        "id": "SpGkR96WHnxt"
      }
    },
    {
      "cell_type": "code",
      "source": [
        "query_eventos = \"SELECT * FROM `datario.turismo_fluxo_visitantes.rede_hoteleira_ocupacao_eventos`\"\n",
        "df_eventos = bd.read_sql(query_eventos, billing_project_id=\"emd-datario\")"
      ],
      "metadata": {
        "colab": {
          "base_uri": "https://localhost:8080/"
        },
        "id": "BOYAxs7xIBxZ",
        "outputId": "ef3cb849-9abc-4036-f784-8c0d8926f8cf"
      },
      "execution_count": 44,
      "outputs": [
        {
          "output_type": "stream",
          "name": "stderr",
          "text": [
            "Downloading: 100%|██████████| 4/4 [00:00<00:00, 22.47rows/s]\n"
          ]
        }
      ]
    },
    {
      "cell_type": "markdown",
      "metadata": {
        "id": "b9uXHSWH8tRd"
      },
      "source": [
        "### Questão 1\n",
        "\n",
        "Quantos chamados foram abertos no dia 01/04/2023?"
      ]
    },
    {
      "cell_type": "code",
      "execution_count": 45,
      "metadata": {
        "colab": {
          "base_uri": "https://localhost:8080/"
        },
        "id": "dKsRqpLJ8tRe",
        "outputId": "abbf2d57-59f3-47bd-b70a-dc2552708115"
      },
      "outputs": [
        {
          "output_type": "stream",
          "name": "stderr",
          "text": [
            "Downloading: 100%|██████████| 1/1 [00:00<00:00,  4.88rows/s]\n"
          ]
        }
      ],
      "source": [
        "\n",
        "query_conta_chamados = \"SELECT count(id_chamado) AS QTD_Chamados FROM `datario.administracao_servicos_publicos.chamado_1746` WHERE data_inicio BETWEEN '2023-04-01T00:00:00' AND '2023-04-01T23:59:59'\"\n",
        "df_conta_chamados = bd.read_sql(query_conta_chamados, billing_project_id=\"emd-datario\")"
      ]
    },
    {
      "cell_type": "code",
      "execution_count": 46,
      "metadata": {
        "colab": {
          "base_uri": "https://localhost:8080/",
          "height": 89
        },
        "id": "TDXZKj_X8tRf",
        "outputId": "e58f006c-bb28-44fe-c970-5350b5c4f447"
      },
      "outputs": [
        {
          "output_type": "execute_result",
          "data": {
            "text/plain": [
              "   QTD_Chamados\n",
              "0            73"
            ],
            "text/html": [
              "\n",
              "  <div id=\"df-e6072b66-b5ee-445b-afc4-2df9027151f1\" class=\"colab-df-container\">\n",
              "    <div>\n",
              "<style scoped>\n",
              "    .dataframe tbody tr th:only-of-type {\n",
              "        vertical-align: middle;\n",
              "    }\n",
              "\n",
              "    .dataframe tbody tr th {\n",
              "        vertical-align: top;\n",
              "    }\n",
              "\n",
              "    .dataframe thead th {\n",
              "        text-align: right;\n",
              "    }\n",
              "</style>\n",
              "<table border=\"1\" class=\"dataframe\">\n",
              "  <thead>\n",
              "    <tr style=\"text-align: right;\">\n",
              "      <th></th>\n",
              "      <th>QTD_Chamados</th>\n",
              "    </tr>\n",
              "  </thead>\n",
              "  <tbody>\n",
              "    <tr>\n",
              "      <th>0</th>\n",
              "      <td>73</td>\n",
              "    </tr>\n",
              "  </tbody>\n",
              "</table>\n",
              "</div>\n",
              "    <div class=\"colab-df-buttons\">\n",
              "\n",
              "  <div class=\"colab-df-container\">\n",
              "    <button class=\"colab-df-convert\" onclick=\"convertToInteractive('df-e6072b66-b5ee-445b-afc4-2df9027151f1')\"\n",
              "            title=\"Convert this dataframe to an interactive table.\"\n",
              "            style=\"display:none;\">\n",
              "\n",
              "  <svg xmlns=\"http://www.w3.org/2000/svg\" height=\"24px\" viewBox=\"0 -960 960 960\">\n",
              "    <path d=\"M120-120v-720h720v720H120Zm60-500h600v-160H180v160Zm220 220h160v-160H400v160Zm0 220h160v-160H400v160ZM180-400h160v-160H180v160Zm440 0h160v-160H620v160ZM180-180h160v-160H180v160Zm440 0h160v-160H620v160Z\"/>\n",
              "  </svg>\n",
              "    </button>\n",
              "\n",
              "  <style>\n",
              "    .colab-df-container {\n",
              "      display:flex;\n",
              "      gap: 12px;\n",
              "    }\n",
              "\n",
              "    .colab-df-convert {\n",
              "      background-color: #E8F0FE;\n",
              "      border: none;\n",
              "      border-radius: 50%;\n",
              "      cursor: pointer;\n",
              "      display: none;\n",
              "      fill: #1967D2;\n",
              "      height: 32px;\n",
              "      padding: 0 0 0 0;\n",
              "      width: 32px;\n",
              "    }\n",
              "\n",
              "    .colab-df-convert:hover {\n",
              "      background-color: #E2EBFA;\n",
              "      box-shadow: 0px 1px 2px rgba(60, 64, 67, 0.3), 0px 1px 3px 1px rgba(60, 64, 67, 0.15);\n",
              "      fill: #174EA6;\n",
              "    }\n",
              "\n",
              "    .colab-df-buttons div {\n",
              "      margin-bottom: 4px;\n",
              "    }\n",
              "\n",
              "    [theme=dark] .colab-df-convert {\n",
              "      background-color: #3B4455;\n",
              "      fill: #D2E3FC;\n",
              "    }\n",
              "\n",
              "    [theme=dark] .colab-df-convert:hover {\n",
              "      background-color: #434B5C;\n",
              "      box-shadow: 0px 1px 3px 1px rgba(0, 0, 0, 0.15);\n",
              "      filter: drop-shadow(0px 1px 2px rgba(0, 0, 0, 0.3));\n",
              "      fill: #FFFFFF;\n",
              "    }\n",
              "  </style>\n",
              "\n",
              "    <script>\n",
              "      const buttonEl =\n",
              "        document.querySelector('#df-e6072b66-b5ee-445b-afc4-2df9027151f1 button.colab-df-convert');\n",
              "      buttonEl.style.display =\n",
              "        google.colab.kernel.accessAllowed ? 'block' : 'none';\n",
              "\n",
              "      async function convertToInteractive(key) {\n",
              "        const element = document.querySelector('#df-e6072b66-b5ee-445b-afc4-2df9027151f1');\n",
              "        const dataTable =\n",
              "          await google.colab.kernel.invokeFunction('convertToInteractive',\n",
              "                                                    [key], {});\n",
              "        if (!dataTable) return;\n",
              "\n",
              "        const docLinkHtml = 'Like what you see? Visit the ' +\n",
              "          '<a target=\"_blank\" href=https://colab.research.google.com/notebooks/data_table.ipynb>data table notebook</a>'\n",
              "          + ' to learn more about interactive tables.';\n",
              "        element.innerHTML = '';\n",
              "        dataTable['output_type'] = 'display_data';\n",
              "        await google.colab.output.renderOutput(dataTable, element);\n",
              "        const docLink = document.createElement('div');\n",
              "        docLink.innerHTML = docLinkHtml;\n",
              "        element.appendChild(docLink);\n",
              "      }\n",
              "    </script>\n",
              "  </div>\n",
              "\n",
              "\n",
              "  <div id=\"id_9b9bf445-21c9-427e-9943-72729ad1085d\">\n",
              "    <style>\n",
              "      .colab-df-generate {\n",
              "        background-color: #E8F0FE;\n",
              "        border: none;\n",
              "        border-radius: 50%;\n",
              "        cursor: pointer;\n",
              "        display: none;\n",
              "        fill: #1967D2;\n",
              "        height: 32px;\n",
              "        padding: 0 0 0 0;\n",
              "        width: 32px;\n",
              "      }\n",
              "\n",
              "      .colab-df-generate:hover {\n",
              "        background-color: #E2EBFA;\n",
              "        box-shadow: 0px 1px 2px rgba(60, 64, 67, 0.3), 0px 1px 3px 1px rgba(60, 64, 67, 0.15);\n",
              "        fill: #174EA6;\n",
              "      }\n",
              "\n",
              "      [theme=dark] .colab-df-generate {\n",
              "        background-color: #3B4455;\n",
              "        fill: #D2E3FC;\n",
              "      }\n",
              "\n",
              "      [theme=dark] .colab-df-generate:hover {\n",
              "        background-color: #434B5C;\n",
              "        box-shadow: 0px 1px 3px 1px rgba(0, 0, 0, 0.15);\n",
              "        filter: drop-shadow(0px 1px 2px rgba(0, 0, 0, 0.3));\n",
              "        fill: #FFFFFF;\n",
              "      }\n",
              "    </style>\n",
              "    <button class=\"colab-df-generate\" onclick=\"generateWithVariable('df_conta_chamados')\"\n",
              "            title=\"Generate code using this dataframe.\"\n",
              "            style=\"display:none;\">\n",
              "\n",
              "  <svg xmlns=\"http://www.w3.org/2000/svg\" height=\"24px\"viewBox=\"0 0 24 24\"\n",
              "       width=\"24px\">\n",
              "    <path d=\"M7,19H8.4L18.45,9,17,7.55,7,17.6ZM5,21V16.75L18.45,3.32a2,2,0,0,1,2.83,0l1.4,1.43a1.91,1.91,0,0,1,.58,1.4,1.91,1.91,0,0,1-.58,1.4L9.25,21ZM18.45,9,17,7.55Zm-12,3A5.31,5.31,0,0,0,4.9,8.1,5.31,5.31,0,0,0,1,6.5,5.31,5.31,0,0,0,4.9,4.9,5.31,5.31,0,0,0,6.5,1,5.31,5.31,0,0,0,8.1,4.9,5.31,5.31,0,0,0,12,6.5,5.46,5.46,0,0,0,6.5,12Z\"/>\n",
              "  </svg>\n",
              "    </button>\n",
              "    <script>\n",
              "      (() => {\n",
              "      const buttonEl =\n",
              "        document.querySelector('#id_9b9bf445-21c9-427e-9943-72729ad1085d button.colab-df-generate');\n",
              "      buttonEl.style.display =\n",
              "        google.colab.kernel.accessAllowed ? 'block' : 'none';\n",
              "\n",
              "      buttonEl.onclick = () => {\n",
              "        google.colab.notebook.generateWithVariable('df_conta_chamados');\n",
              "      }\n",
              "      })();\n",
              "    </script>\n",
              "  </div>\n",
              "\n",
              "    </div>\n",
              "  </div>\n"
            ]
          },
          "metadata": {},
          "execution_count": 46
        }
      ],
      "source": [
        "df_conta_chamados"
      ]
    },
    {
      "cell_type": "markdown",
      "metadata": {
        "id": "NUcf3GcS8tRg"
      },
      "source": [
        "``Resposta:`` Foram feitos 73 chamados no dia 01/04/2023."
      ]
    },
    {
      "cell_type": "markdown",
      "metadata": {
        "id": "zmS7DTYB8tRg"
      },
      "source": [
        "### Questão 2\n",
        "\n",
        "Qual o tipo de chamado que teve mais reclamações no dia 01/04/2023?"
      ]
    },
    {
      "cell_type": "markdown",
      "metadata": {
        "id": "9gU2dZr38tRh"
      },
      "source": [
        "Listando as colunas do dataframe para identificação visual:"
      ]
    },
    {
      "cell_type": "code",
      "execution_count": 47,
      "metadata": {
        "colab": {
          "base_uri": "https://localhost:8080/"
        },
        "id": "PkJLpqr98tRh",
        "outputId": "74756d17-f19d-4653-9007-6c233ea93722"
      },
      "outputs": [
        {
          "output_type": "execute_result",
          "data": {
            "text/plain": [
              "['categoria',\n",
              " 'data_alvo_diagnostico',\n",
              " 'data_alvo_finalizacao',\n",
              " 'data_fim',\n",
              " 'data_inicio',\n",
              " 'data_particao',\n",
              " 'data_real_diagnostico',\n",
              " 'dentro_prazo',\n",
              " 'geometry',\n",
              " 'id_bairro',\n",
              " 'id_chamado',\n",
              " 'id_logradouro',\n",
              " 'id_subtipo',\n",
              " 'id_territorialidade',\n",
              " 'id_tipo',\n",
              " 'id_unidade_organizacional',\n",
              " 'id_unidade_organizacional_mae',\n",
              " 'justificativa_status',\n",
              " 'latitude',\n",
              " 'longitude',\n",
              " 'nome_unidade_organizacional',\n",
              " 'numero_logradouro',\n",
              " 'prazo_tipo',\n",
              " 'prazo_unidade',\n",
              " 'reclamacoes',\n",
              " 'situacao',\n",
              " 'status',\n",
              " 'subtipo',\n",
              " 'tempo_prazo',\n",
              " 'tipo',\n",
              " 'tipo_situacao',\n",
              " 'unidade_organizacional_ouvidoria']"
            ]
          },
          "metadata": {},
          "execution_count": 47
        }
      ],
      "source": [
        "sorted(df_chamados.keys())"
      ]
    },
    {
      "cell_type": "markdown",
      "metadata": {
        "id": "7HRD5Fn78tRi"
      },
      "source": [
        "A coluna ``'tipo'`` conterá a informação para responder esta questão."
      ]
    },
    {
      "cell_type": "code",
      "execution_count": 48,
      "metadata": {
        "colab": {
          "base_uri": "https://localhost:8080/"
        },
        "id": "hffuzZFS8tRi",
        "outputId": "43b3f382-1dda-4fd4-e50b-71eaf638dc63"
      },
      "outputs": [
        {
          "output_type": "execute_result",
          "data": {
            "text/plain": [
              "Poluição sonora             24\n",
              "Estacionamento Irregular     9\n",
              "Iluminação Pública           8\n",
              "Remoção Gratuita             5\n",
              "Limpeza                      5\n",
              "Postura Municipal            4\n",
              "Ocupação de área pública     3\n",
              "Pavimentação                 3\n",
              "Comlurb - Vetores            2\n",
              "Fiscalização de obras        2\n",
              "Manejo Arbóreo               2\n",
              "Programa Cegonha Carioca     1\n",
              "Ônibus                       1\n",
              "Drenagem e Saneamento        1\n",
              "Feiras                       1\n",
              "Comércio ambulante           1\n",
              "Semáforo                     1\n",
              "Name: tipo, dtype: int64"
            ]
          },
          "metadata": {},
          "execution_count": 48
        }
      ],
      "source": [
        "df_chamados['tipo'].value_counts()"
      ]
    },
    {
      "cell_type": "markdown",
      "metadata": {
        "id": "oYR0JRDH8tRj"
      },
      "source": [
        "``Resposta:`` Podemos verificar que o tipo de chamado mais frequente no dia 01/04/2023 é ``Poluição sonora``, contendo 24 chamados"
      ]
    },
    {
      "cell_type": "markdown",
      "metadata": {
        "id": "aZNcZvS58tRj"
      },
      "source": [
        "### Questão 3\n",
        "\n",
        "Quais os nomes dos 3 bairros que mais tiveram chamados abertos nesse dia?"
      ]
    },
    {
      "cell_type": "markdown",
      "metadata": {
        "id": "3Xzl9S4g8tRk"
      },
      "source": [
        "Contando os bairros (``'id_bairro'``) que mais se repetem entre os chamados:"
      ]
    },
    {
      "cell_type": "code",
      "execution_count": 49,
      "metadata": {
        "colab": {
          "base_uri": "https://localhost:8080/"
        },
        "id": "xzFVuaFa8tRk",
        "outputId": "49064ba3-2db2-4374-93aa-0c4c3f4479b6"
      },
      "outputs": [
        {
          "output_type": "execute_result",
          "data": {
            "text/plain": [
              "['66', '26', '144']"
            ]
          },
          "metadata": {},
          "execution_count": 49
        }
      ],
      "source": [
        "id_bairros_max_chamados = df_chamados['id_bairro'].value_counts().nlargest(3).index.tolist()\n",
        "id_bairros_max_chamados"
      ]
    },
    {
      "cell_type": "code",
      "execution_count": 50,
      "metadata": {
        "colab": {
          "base_uri": "https://localhost:8080/"
        },
        "id": "AKDF-Ubg8tRk",
        "outputId": "43222b88-f8b9-4b37-c479-143fa5263372"
      },
      "outputs": [
        {
          "output_type": "execute_result",
          "data": {
            "text/plain": [
              "['Leblon', 'Engenho de Dentro', 'Campo Grande']"
            ]
          },
          "metadata": {},
          "execution_count": 50
        }
      ],
      "source": [
        "bairros_max_chamados = df_bairros.loc[df_bairros['id_bairro'].isin(id_bairros_max_chamados)]['nome'].tolist()\n",
        "bairros_max_chamados"
      ]
    },
    {
      "cell_type": "markdown",
      "metadata": {
        "id": "hLbRZSmp8tRl"
      },
      "source": [
        "``Resposta:`` Os bairros que mais possuem chamados  são: ``'Leblon'``, ``'Engenho de Dentro'``, ``'Campo Grande'``, no dia 01/04/2023"
      ]
    },
    {
      "cell_type": "markdown",
      "metadata": {
        "id": "U6jS5kHB8tRl"
      },
      "source": [
        "### Questão 4\n",
        "\n",
        "Qual o nome da subprefeitura com mais chamados abertos nesse dia?"
      ]
    },
    {
      "cell_type": "code",
      "execution_count": 51,
      "metadata": {
        "colab": {
          "base_uri": "https://localhost:8080/"
        },
        "id": "RPpa3v7u8tRl",
        "outputId": "12b749c1-3582-410f-b861-848cfd8d77e8"
      },
      "outputs": [
        {
          "output_type": "execute_result",
          "data": {
            "text/plain": [
              "['Zona Norte']"
            ]
          },
          "metadata": {},
          "execution_count": 51
        }
      ],
      "source": [
        "subprefeitura_max_chamados = df_bairros.loc[df_bairros['id_bairro'].isin([id_bairros_max_chamados[0]])]['subprefeitura'].tolist()\n",
        "subprefeitura_max_chamados"
      ]
    },
    {
      "cell_type": "markdown",
      "metadata": {
        "id": "HZl7AQ6K8tRm"
      },
      "source": [
        "``Resposta:`` A subprefeitura com maior número de chamados no dia 01/04/2023 foi a da ``'Zona Norte'``"
      ]
    },
    {
      "cell_type": "markdown",
      "metadata": {
        "id": "EghDJmhT8tRm"
      },
      "source": [
        "### Questão 5\n",
        "\n",
        "Existe algum chamado aberto nesse dia que não foi associado a um bairro ou subprefeitura na tabela de bairros? Se sim, por que isso acontece?"
      ]
    },
    {
      "cell_type": "code",
      "execution_count": 52,
      "metadata": {
        "colab": {
          "base_uri": "https://localhost:8080/"
        },
        "id": "3RLajj1v8tRm",
        "outputId": "221ce876-a21d-4185-8132-05f4610ea9da"
      },
      "outputs": [
        {
          "output_type": "execute_result",
          "data": {
            "text/plain": [
              "{'tipo': 'Ônibus',\n",
              " 'subtipo': 'Verificação de ar condicionado inoperante no ônibus'}"
            ]
          },
          "metadata": {},
          "execution_count": 52
        }
      ],
      "source": [
        "chamados_sem_b_sub = df_chamados[df_chamados['id_bairro'].isna()].to_dict()\n",
        "{'tipo': chamados_sem_b_sub['tipo'][0],'subtipo': chamados_sem_b_sub['subtipo'][0]}"
      ]
    },
    {
      "cell_type": "markdown",
      "metadata": {
        "id": "DX2XgSUj8tRn"
      },
      "source": [
        "``Resposta:`` O chamado não foi associado a um bairro ou subprefeitura pois o registro é sobre  ``'Verificação de ar condicionado inoperante no ônibus'``, logo não fora atribuído a nenhuma localidade."
      ]
    },
    {
      "cell_type": "markdown",
      "source": [
        "### Questão 6\n",
        "\n",
        "Quantos chamados com o subtipo \"Perturbação do sossego\" foram abertos desde 01/01/2022 até 31/12/2023 (incluindo extremidades)?"
      ],
      "metadata": {
        "id": "3q9iFKVSG5mf"
      }
    },
    {
      "cell_type": "code",
      "source": [
        "total_chamados_perturbacao_sossego = df_chamados[(df_chamados['subtipo'] == 'Perturbação do sossego') &\n",
        "                                                 (df_chamados['data_inicio'] >= '2022-01-01') &\n",
        "                                                 (df_chamados['data_inicio'] <= '2023-12-31')].shape[0]"
      ],
      "metadata": {
        "id": "Dld4P-KKIbIp"
      },
      "execution_count": 53,
      "outputs": []
    },
    {
      "cell_type": "code",
      "source": [
        "total_chamados_perturbacao_sossego"
      ],
      "metadata": {
        "colab": {
          "base_uri": "https://localhost:8080/"
        },
        "id": "Kcr1-T9-JrxB",
        "outputId": "66c55475-119d-4f4c-e9db-254a21181cad"
      },
      "execution_count": 54,
      "outputs": [
        {
          "output_type": "execute_result",
          "data": {
            "text/plain": [
              "24"
            ]
          },
          "metadata": {},
          "execution_count": 54
        }
      ]
    },
    {
      "cell_type": "markdown",
      "source": [
        "``Resposta:`` Foram feitos 24 chamados relacionados a ``'Pertubação do sossego'``."
      ],
      "metadata": {
        "id": "smNrcpViJxcq"
      }
    },
    {
      "cell_type": "markdown",
      "source": [
        "### Questão 7\n",
        "\n",
        "Selecione os chamados com esse subtipo que foram abertos durante os eventos contidos na tabela de eventos (Reveillon, Carnaval e Rock in Rio)."
      ],
      "metadata": {
        "id": "8e2RO9bZKFo-"
      }
    },
    {
      "cell_type": "code",
      "source": [
        "\n",
        "# Sua consulta SQL atualizada\n",
        "# Retorna contagem de eventos agrupaos por eventos\n",
        "query_tot_eventos = \"\"\"\n",
        "SELECT e.evento, COUNT(c.id_chamado) AS total_ocorrencias\n",
        "FROM `datario.administracao_servicos_publicos.chamado_1746` c\n",
        "INNER JOIN `datario.turismo_fluxo_visitantes.rede_hoteleira_ocupacao_eventos` e\n",
        "ON c.data_inicio BETWEEN e.data_inicial AND e.data_final\n",
        "WHERE c.subtipo = 'Perturbação do sossego'\n",
        "AND e.evento IN ('Reveillon', 'Carnaval', 'Rock in Rio')\n",
        "GROUP BY e.evento\n",
        "ORDER BY total_ocorrencias DESC;\n",
        "\"\"\"\n",
        "query_select_eventos = \"\"\"\n",
        "SELECT c.*\n",
        "FROM `datario.administracao_servicos_publicos.chamado_1746` c\n",
        "INNER JOIN `datario.turismo_fluxo_visitantes.rede_hoteleira_ocupacao_eventos` e\n",
        "ON c.data_inicio BETWEEN e.data_inicial AND e.data_final\n",
        "WHERE c.subtipo = 'Perturbação do sossego'\n",
        "AND e.evento IN ('Reveillon', 'Carnaval', 'Rock in Rio')\n",
        ";\n",
        "\"\"\"\n",
        "client = bigquery.Client(project=\"emd-datario\")\n",
        "\n",
        "# Executa a consulta atualizada e converte os resultados para um DataFrame\n",
        "df_tot = client.query(query_tot_eventos).to_dataframe()\n",
        "df_select = client.query(query_select_eventos).to_dataframe()\n",
        "\n",
        "# Exibe o DataFrame\n",
        "print(df_tot)\n",
        "print('\\n')\n",
        "print(df_select)"
      ],
      "metadata": {
        "colab": {
          "base_uri": "https://localhost:8080/"
        },
        "id": "oM0AT-FpKFpU",
        "outputId": "30f84afa-d533-4529-fb40-69e64a2886e5"
      },
      "execution_count": 55,
      "outputs": [
        {
          "output_type": "stream",
          "name": "stdout",
          "text": [
            "        evento  total_ocorrencias\n",
            "0  Rock in Rio                518\n",
            "1     Carnaval                197\n",
            "2    Reveillon                 79\n",
            "\n",
            "\n",
            "    id_chamado         data_inicio            data_fim id_bairro  \\\n",
            "0     18078403 2022-12-31 00:08:42                 NaT        74   \n",
            "1     18079140 2022-12-31 13:57:43                 NaT        89   \n",
            "2     18077761 2022-12-30 16:48:53 2022-12-30 20:05:29        63   \n",
            "3     18079523 2022-12-31 20:52:48 2023-01-08 23:40:57       149   \n",
            "4     17662396 2022-09-03 11:22:22 2022-09-03 17:13:50        59   \n",
            "..         ...                 ...                 ...       ...   \n",
            "789   18327681 2023-02-18 05:23:18 2023-02-21 10:51:39        24   \n",
            "790   18327522 2023-02-18 01:15:43 2023-02-21 10:30:35        74   \n",
            "791   18329833 2023-02-19 03:33:38 2023-02-27 08:45:25       128   \n",
            "792   18331103 2023-02-19 20:57:31 2023-02-28 10:01:00        90   \n",
            "793   18329577 2023-02-18 22:08:19 2023-02-27 08:51:35       121   \n",
            "\n",
            "    id_territorialidade id_logradouro  numero_logradouro  \\\n",
            "0                     3         36111              506.0   \n",
            "1                     3         40709              666.0   \n",
            "2                     3         68965               12.0   \n",
            "3                     5         32151              809.0   \n",
            "4                     3         83246                0.0   \n",
            "..                  ...           ...                ...   \n",
            "789                   2         81885              143.0   \n",
            "790                   3         37416               25.0   \n",
            "791                   4          3343              431.0   \n",
            "792                   3         10363              120.0   \n",
            "793                   4         17046               46.0   \n",
            "\n",
            "    id_unidade_organizacional                  nome_unidade_organizacional  \\\n",
            "0                          70  GM-RIO - Guarda Municipal do Rio de Janeiro   \n",
            "1                          70  GM-RIO - Guarda Municipal do Rio de Janeiro   \n",
            "2                          70  GM-RIO - Guarda Municipal do Rio de Janeiro   \n",
            "3                          70  GM-RIO - Guarda Municipal do Rio de Janeiro   \n",
            "4                          70  GM-RIO - Guarda Municipal do Rio de Janeiro   \n",
            "..                        ...                                          ...   \n",
            "789                        70  GM-RIO - Guarda Municipal do Rio de Janeiro   \n",
            "790                        70  GM-RIO - Guarda Municipal do Rio de Janeiro   \n",
            "791                        70  GM-RIO - Guarda Municipal do Rio de Janeiro   \n",
            "792                        70  GM-RIO - Guarda Municipal do Rio de Janeiro   \n",
            "793                        70  GM-RIO - Guarda Municipal do Rio de Janeiro   \n",
            "\n",
            "                   id_unidade_organizacional_mae  ... tempo_prazo  \\\n",
            "0    GM-RIO - Guarda Municipal do Rio de Janeiro  ...         NaN   \n",
            "1    GM-RIO - Guarda Municipal do Rio de Janeiro  ...         NaN   \n",
            "2    GM-RIO - Guarda Municipal do Rio de Janeiro  ...         NaN   \n",
            "3    GM-RIO - Guarda Municipal do Rio de Janeiro  ...         NaN   \n",
            "4    GM-RIO - Guarda Municipal do Rio de Janeiro  ...         NaN   \n",
            "..                                           ...  ...         ...   \n",
            "789  GM-RIO - Guarda Municipal do Rio de Janeiro  ...         NaN   \n",
            "790  GM-RIO - Guarda Municipal do Rio de Janeiro  ...         NaN   \n",
            "791  GM-RIO - Guarda Municipal do Rio de Janeiro  ...         NaN   \n",
            "792  GM-RIO - Guarda Municipal do Rio de Janeiro  ...         NaN   \n",
            "793  GM-RIO - Guarda Municipal do Rio de Janeiro  ...         NaN   \n",
            "\n",
            "    prazo_unidade prazo_tipo   dentro_prazo       situacao   tipo_situacao  \\\n",
            "0               D          F  Fora do prazo  Não Encerrado       Andamento   \n",
            "1               D          F  Fora do prazo  Não Encerrado       Andamento   \n",
            "2               D          F       No prazo      Encerrado  Não constatado   \n",
            "3               D          F  Fora do prazo      Encerrado  Não constatado   \n",
            "4               D          F       No prazo      Encerrado        Atendido   \n",
            "..            ...        ...            ...            ...             ...   \n",
            "789             D          F       No prazo      Encerrado    Não atendido   \n",
            "790             D          F       No prazo      Encerrado    Não atendido   \n",
            "791             D          F  Fora do prazo      Encerrado    Não atendido   \n",
            "792             D          F  Fora do prazo      Encerrado    Não atendido   \n",
            "793             D          F       No prazo      Encerrado    Não atendido   \n",
            "\n",
            "    justificativa_status  reclamacoes  data_particao  \\\n",
            "0                   None            0     2022-12-01   \n",
            "1                   None            0     2022-12-01   \n",
            "2                   None            0     2022-12-01   \n",
            "3                   None            0     2022-12-01   \n",
            "4                   None            0     2022-09-01   \n",
            "..                   ...          ...            ...   \n",
            "789                 None            0     2023-02-01   \n",
            "790                 None            0     2023-02-01   \n",
            "791                 None            0     2023-02-01   \n",
            "792                 None            0     2023-02-01   \n",
            "793                 None            0     2023-02-01   \n",
            "\n",
            "                           geometry  \n",
            "0    POINT(-43.3103465 -22.8456538)  \n",
            "1                              None  \n",
            "2    POINT(-43.2875954 -22.9033643)  \n",
            "3    POINT(-43.6853625 -22.9296596)  \n",
            "4    POINT(-43.2578692 -22.9050248)  \n",
            "..                              ...  \n",
            "789   POINT(-43.187908 -22.9669282)  \n",
            "790  POINT(-43.3105446 -22.8399355)  \n",
            "791  POINT(-43.3130702 -23.0072501)  \n",
            "792  POINT(-43.3672439 -22.8546165)  \n",
            "793  POINT(-43.3546406 -22.9302115)  \n",
            "\n",
            "[794 rows x 32 columns]\n"
          ]
        }
      ]
    },
    {
      "cell_type": "markdown",
      "source": [
        "``Resposta:``\n",
        "\n",
        "1.   Rock in Rio 518\n",
        "2.   Carnaval 197\n",
        "3.   Reveillon 79."
      ],
      "metadata": {
        "id": "yigI2mYCKFpW"
      }
    },
    {
      "cell_type": "markdown",
      "source": [
        "### Questão 8\n",
        "\n",
        "Quantos chamados desse subtipo foram abertos em cada evento??"
      ],
      "metadata": {
        "id": "azlMFTr374LC"
      }
    },
    {
      "cell_type": "code",
      "source": [
        "query_chamados_eventos = \"\"\"\n",
        "SELECT e.evento, COUNT(c.id_chamado) AS total_ocorrencias\n",
        "FROM `datario.administracao_servicos_publicos.chamado_1746` c\n",
        "INNER JOIN `datario.turismo_fluxo_visitantes.rede_hoteleira_ocupacao_eventos` e\n",
        "ON c.data_inicio BETWEEN e.data_inicial AND e.data_final\n",
        "WHERE c.subtipo = 'Perturbação do sossego'\n",
        "AND e.evento IN ('Reveillon', 'Carnaval', 'Rock in Rio')\n",
        "GROUP BY e.evento\n",
        "ORDER BY total_ocorrencias DESC;\n",
        "\"\"\"\n",
        "client = bigquery.Client(project=\"emd-datario\")\n",
        "\n",
        "\n",
        "df_chamados_eventos = client.query(query_chamados_eventos).to_dataframe()\n",
        "\n",
        "print(df_chamados_eventos)"
      ],
      "metadata": {
        "colab": {
          "base_uri": "https://localhost:8080/"
        },
        "outputId": "45883b4e-3277-4fb0-b165-6074ac54ce1f",
        "id": "sjHTgcLz74LY"
      },
      "execution_count": 56,
      "outputs": [
        {
          "output_type": "stream",
          "name": "stdout",
          "text": [
            "        evento  total_ocorrencias\n",
            "0  Rock in Rio                518\n",
            "1     Carnaval                197\n",
            "2    Reveillon                 79\n"
          ]
        }
      ]
    },
    {
      "cell_type": "markdown",
      "source": [
        "``Resposta:``\n",
        "\n",
        "1.   Rock in Rio 518 chamados\n",
        "2.   Carnaval 197 chamados\n",
        "3.   Reveillon 79 chamados."
      ],
      "metadata": {
        "id": "Hxq1rudd74LZ"
      }
    },
    {
      "cell_type": "markdown",
      "source": [
        "### Questão 9\n",
        "\n",
        "Qual evento teve a maior média diária de chamados abertos desse subtipo?\n"
      ],
      "metadata": {
        "id": "5wTD449x8-Bq"
      }
    },
    {
      "cell_type": "code",
      "source": [
        "query_medias_diarias =\"\"\"SELECT evento AS Evento, ROUND(AVG(QTD_Chamados), 4) AS Media_Diaria_Chamados\n",
        "FROM (\n",
        "    SELECT e.evento, DATE(c.data_inicio) AS data, COUNT(*) AS QTD_Chamados\n",
        "    FROM `datario.administracao_servicos_publicos.chamado_1746` c\n",
        "    INNER JOIN `datario.turismo_fluxo_visitantes.rede_hoteleira_ocupacao_eventos` e\n",
        "    ON c.data_inicio BETWEEN e.data_inicial AND e.data_final\n",
        "    WHERE c.subtipo = 'Perturbação do sossego'\n",
        "    GROUP BY e.evento, DATE(c.data_inicio)\n",
        ") AS subquery\n",
        "GROUP BY evento\n",
        "ORDER BY Media_Diaria_Chamados DESC\n",
        "\"\"\"\n",
        "\n",
        "client = bigquery.Client(project=\"emd-datario\")\n",
        "\n",
        "df_select = client.query(query_medias_diarias).to_dataframe()\n",
        "\n",
        "max_evento = df_select.loc[df_select['Media_Diaria_Chamados'].idxmax()]\n",
        "\n",
        "print(max_evento)\n"
      ],
      "metadata": {
        "colab": {
          "base_uri": "https://localhost:8080/"
        },
        "outputId": "5767eaf5-0193-44ea-ca28-ced728bb6bac",
        "id": "lY29ZS7o8-Bz"
      },
      "execution_count": 57,
      "outputs": [
        {
          "output_type": "stream",
          "name": "stdout",
          "text": [
            "Evento                   Rock in Rio\n",
            "Media_Diaria_Chamados          103.6\n",
            "Name: 0, dtype: object\n"
          ]
        }
      ]
    },
    {
      "cell_type": "markdown",
      "source": [
        "``Resposta:`` Rock in Rio com a média diária  de 103.6 chamados"
      ],
      "metadata": {
        "id": "Y18Osc2y8-Bz"
      }
    },
    {
      "cell_type": "markdown",
      "source": [
        "### Questão 10\n",
        "\n",
        "Compare as médias diárias de chamados abertos desse subtipo durante os eventos específicos (Reveillon, Carnaval e Rock in Rio) e a média diária de chamados abertos desse subtipo considerando todo o período de 01/01/2022 até 31/12/2023.\n"
      ],
      "metadata": {
        "id": "yjbWGVW_8_-y"
      }
    },
    {
      "cell_type": "code",
      "source": [
        "query_medias_especificos =\"\"\"\n",
        "SELECT evento AS Evento, ROUND(AVG(QTD_Chamados), 2) AS Media_Diaria_Chamados\n",
        "FROM (\n",
        "    SELECT e.evento, DATE(c.data_inicio) AS data, COUNT(*) AS QTD_Chamados\n",
        "    FROM `datario.administracao_servicos_publicos.chamado_1746` c\n",
        "    INNER JOIN `datario.turismo_fluxo_visitantes.rede_hoteleira_ocupacao_eventos` e\n",
        "    ON c.data_inicio BETWEEN e.data_inicial AND e.data_final\n",
        "    WHERE c.subtipo = 'Perturbação do sossego'\n",
        "    GROUP BY e.evento, DATE(c.data_inicio)\n",
        ") AS subquery\n",
        "GROUP BY evento\n",
        "ORDER BY Media_Diaria_Chamados DESC\n",
        "\"\"\"\n",
        "query_medias_totais =\"\"\"\n",
        "SELECT ROUND(AVG(QTD_Chamados), 2) AS Media_Diaria_Eventos\n",
        "FROM (\n",
        "    SELECT DATE(c.data_inicio) AS data, COUNT(*) AS QTD_Chamados\n",
        "    FROM `datario.administracao_servicos_publicos.chamado_1746` c\n",
        "    WHERE c.subtipo = 'Perturbação do sossego'\n",
        "    AND c.data_inicio BETWEEN '2022-01-01' AND '2023-12-31'\n",
        "    GROUP BY DATE(c.data_inicio)\n",
        ") AS subquery\n",
        "\"\"\"\n",
        "\n",
        "client = bigquery.Client(project=\"emd-datario\")\n",
        "\n",
        "df_select_especificos = client.query(query_medias_especificos).to_dataframe()\n",
        "df_select_totais = client.query(query_medias_totais).to_dataframe()\n",
        "\n",
        "print(df_select_especificos)\n",
        "print('\\n')\n",
        "print(df_select_totais)"
      ],
      "metadata": {
        "colab": {
          "base_uri": "https://localhost:8080/"
        },
        "outputId": "8732a2e8-d27a-4fae-b3f0-3ef9bba1f3dc",
        "id": "GHkQk8tX8_-z"
      },
      "execution_count": 58,
      "outputs": [
        {
          "output_type": "stream",
          "name": "stdout",
          "text": [
            "        Evento  Media_Diaria_Chamados\n",
            "0  Rock in Rio                 103.60\n",
            "1     Carnaval                  65.67\n",
            "2    Reveillon                  39.50\n",
            "\n",
            "\n",
            "   Media_Diaria_Eventos\n",
            "0                  63.2\n"
          ]
        }
      ]
    },
    {
      "cell_type": "markdown",
      "source": [
        "``Resposta:``\n",
        "\n",
        "1.   Rock in Rio 103.6 média diária de chamados\n",
        "2.   Carnaval 65.67 média diária de chamados\n",
        "3.   Reveillon 39.50 média diária de chamados.\n",
        "4.   Entre 01/01/2022 e 31/12/2023 a média diária de chamados foi 63.2."
      ],
      "metadata": {
        "id": "SyJKvm488_-0"
      }
    }
  ],
  "metadata": {
    "kernelspec": {
      "display_name": "Python 3",
      "language": "python",
      "name": "python3"
    },
    "language_info": {
      "codemirror_mode": {
        "name": "ipython",
        "version": 3
      },
      "file_extension": ".py",
      "mimetype": "text/x-python",
      "name": "python",
      "nbconvert_exporter": "python",
      "pygments_lexer": "ipython3",
      "version": "3.10.12"
    },
    "colab": {
      "provenance": [],
      "collapsed_sections": [
        "zBaHp9En__cZ"
      ]
    }
  },
  "nbformat": 4,
  "nbformat_minor": 0
}